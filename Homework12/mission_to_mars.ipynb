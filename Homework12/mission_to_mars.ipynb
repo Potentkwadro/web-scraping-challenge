{
 "cells": [
  {
   "cell_type": "code",
   "execution_count": 35,
   "id": "dee76895",
   "metadata": {},
   "outputs": [],
   "source": [
    "from splinter import Browser\n",
    "from bs4 import BeautifulSoup\n",
    "from webdriver_manager.chrome import ChromeDriverManager\n",
    "import pandas as pd\n",
    "import requests\n",
    "import time\n",
    "from sqlalchemy import inspect, create_engine\n",
    "import matplotlib.pyplot as plt\n",
    "import numpy as np"
   ]
  },
  {
   "cell_type": "markdown",
   "id": "c18ea199",
   "metadata": {},
   "source": [
    "#NASA Mars News\n"
   ]
  },
  {
   "cell_type": "code",
   "execution_count": 36,
   "id": "8562bcad",
   "metadata": {},
   "outputs": [],
   "source": [
    "mars_url = 'https://redplanetscience.com/'\n"
   ]
  },
  {
   "cell_type": "code",
   "execution_count": 37,
   "id": "1a2f86af",
   "metadata": {},
   "outputs": [
    {
     "name": "stderr",
     "output_type": "stream",
     "text": [
      "\n",
      "\n",
      "====== WebDriver manager ======\n",
      "Current google-chrome version is 99.0.4844\n",
      "Get LATEST chromedriver version for 99.0.4844 google-chrome\n",
      "Driver [/Users/Kwadwo/.wdm/drivers/chromedriver/mac64/99.0.4844.51/chromedriver] found in cache\n"
     ]
    }
   ],
   "source": [
    "# Setup splinter\n",
    "executable_path = {'executable_path': ChromeDriverManager().install()}\n",
    "browser = Browser('chrome', **executable_path, headless=False)"
   ]
  },
  {
   "cell_type": "code",
   "execution_count": null,
   "id": "97842e3d",
   "metadata": {},
   "outputs": [],
   "source": [
    "browser.visit(mars_url)\n",
    "time.sleep(2)"
   ]
  },
  {
   "cell_type": "code",
   "execution_count": null,
   "id": "cc8649fc",
   "metadata": {},
   "outputs": [],
   "source": [
    "html = browser.html\n",
    "soup = BeautifulSoup(html)"
   ]
  },
  {
   "cell_type": "code",
   "execution_count": null,
   "id": "6bf1fc94",
   "metadata": {},
   "outputs": [],
   "source": []
  },
  {
   "cell_type": "code",
   "execution_count": null,
   "id": "5b915808",
   "metadata": {},
   "outputs": [],
   "source": [
    "mars_title = soup.find_all(\"div\", {\"class\":\"content_title\"})[0].text\n",
    "mars_news = soup.find_all(\"div\", {\"class\":\"article_teaser_body\"})[0].text\n",
    "mars_title"
   ]
  },
  {
   "cell_type": "code",
   "execution_count": null,
   "id": "5e752b99",
   "metadata": {},
   "outputs": [],
   "source": [
    "mars_news"
   ]
  },
  {
   "cell_type": "markdown",
   "id": "7586063d",
   "metadata": {},
   "source": [
    "#JPL Mars Space Images - Featured Image\n"
   ]
  },
  {
   "cell_type": "code",
   "execution_count": null,
   "id": "448c294d",
   "metadata": {},
   "outputs": [],
   "source": []
  },
  {
   "cell_type": "code",
   "execution_count": 9,
   "id": "bd47f3ba",
   "metadata": {},
   "outputs": [],
   "source": [
    "mimage_image_url = \"https://spaceimages-mars.com/\"\n",
    "browser.visit(mimage_image_url)"
   ]
  },
  {
   "cell_type": "code",
   "execution_count": 10,
   "id": "e722b50f",
   "metadata": {},
   "outputs": [],
   "source": [
    "html = browser.html\n",
    "soup = BeautifulSoup(html)"
   ]
  },
  {
   "cell_type": "code",
   "execution_count": 11,
   "id": "3a9838b3",
   "metadata": {},
   "outputs": [
    {
     "data": {
      "text/plain": [
       "'https://spaceimages-mars.com/image/featured/mars3.jpg'"
      ]
     },
     "execution_count": 11,
     "metadata": {},
     "output_type": "execute_result"
    }
   ],
   "source": [
    "mimage_image_url = mimage_image_url + soup.find(\"img\", {\"class\":\"headerimage\"})[\"src\"]\n",
    "mimage_image_url \n"
   ]
  },
  {
   "cell_type": "markdown",
   "id": "7ae8bd30",
   "metadata": {},
   "source": [
    "#Mars Facts\n"
   ]
  },
  {
   "cell_type": "code",
   "execution_count": 16,
   "id": "7cd0bf0f",
   "metadata": {},
   "outputs": [],
   "source": [
    "mfacts_url = \"https://galaxyfacts-mars.com/\"\n",
    "browser.visit(mfacts_url)"
   ]
  },
  {
   "cell_type": "code",
   "execution_count": 17,
   "id": "f9094725",
   "metadata": {},
   "outputs": [],
   "source": [
    "html = browser.html\n",
    "dfs = pd.read_html(html)"
   ]
  },
  {
   "cell_type": "code",
   "execution_count": 18,
   "id": "18646036",
   "metadata": {},
   "outputs": [],
   "source": [
    "# find table\n",
    "df = dfs[1]\n",
    "df.columns=[\"Statistic\", \"Value\"]"
   ]
  },
  {
   "cell_type": "code",
   "execution_count": 19,
   "id": "e29f6820",
   "metadata": {},
   "outputs": [
    {
     "data": {
      "text/html": [
       "<div>\n",
       "<style scoped>\n",
       "    .dataframe tbody tr th:only-of-type {\n",
       "        vertical-align: middle;\n",
       "    }\n",
       "\n",
       "    .dataframe tbody tr th {\n",
       "        vertical-align: top;\n",
       "    }\n",
       "\n",
       "    .dataframe thead th {\n",
       "        text-align: right;\n",
       "    }\n",
       "</style>\n",
       "<table border=\"1\" class=\"dataframe\">\n",
       "  <thead>\n",
       "    <tr style=\"text-align: right;\">\n",
       "      <th></th>\n",
       "      <th>Statistic</th>\n",
       "      <th>Value</th>\n",
       "    </tr>\n",
       "  </thead>\n",
       "  <tbody>\n",
       "    <tr>\n",
       "      <th>0</th>\n",
       "      <td>Equatorial Diameter:</td>\n",
       "      <td>6,792 km</td>\n",
       "    </tr>\n",
       "    <tr>\n",
       "      <th>1</th>\n",
       "      <td>Polar Diameter:</td>\n",
       "      <td>6,752 km</td>\n",
       "    </tr>\n",
       "    <tr>\n",
       "      <th>2</th>\n",
       "      <td>Mass:</td>\n",
       "      <td>6.39 × 10^23 kg (0.11 Earths)</td>\n",
       "    </tr>\n",
       "    <tr>\n",
       "      <th>3</th>\n",
       "      <td>Moons:</td>\n",
       "      <td>2 ( Phobos &amp; Deimos )</td>\n",
       "    </tr>\n",
       "    <tr>\n",
       "      <th>4</th>\n",
       "      <td>Orbit Distance:</td>\n",
       "      <td>227,943,824 km (1.38 AU)</td>\n",
       "    </tr>\n",
       "    <tr>\n",
       "      <th>5</th>\n",
       "      <td>Orbit Period:</td>\n",
       "      <td>687 days (1.9 years)</td>\n",
       "    </tr>\n",
       "    <tr>\n",
       "      <th>6</th>\n",
       "      <td>Surface Temperature:</td>\n",
       "      <td>-87 to -5 °C</td>\n",
       "    </tr>\n",
       "    <tr>\n",
       "      <th>7</th>\n",
       "      <td>First Record:</td>\n",
       "      <td>2nd millennium BC</td>\n",
       "    </tr>\n",
       "    <tr>\n",
       "      <th>8</th>\n",
       "      <td>Recorded By:</td>\n",
       "      <td>Egyptian astronomers</td>\n",
       "    </tr>\n",
       "  </tbody>\n",
       "</table>\n",
       "</div>"
      ],
      "text/plain": [
       "              Statistic                          Value\n",
       "0  Equatorial Diameter:                       6,792 km\n",
       "1       Polar Diameter:                       6,752 km\n",
       "2                 Mass:  6.39 × 10^23 kg (0.11 Earths)\n",
       "3                Moons:          2 ( Phobos & Deimos )\n",
       "4       Orbit Distance:       227,943,824 km (1.38 AU)\n",
       "5         Orbit Period:           687 days (1.9 years)\n",
       "6  Surface Temperature:                   -87 to -5 °C\n",
       "7         First Record:              2nd millennium BC\n",
       "8          Recorded By:           Egyptian astronomers"
      ]
     },
     "execution_count": 19,
     "metadata": {},
     "output_type": "execute_result"
    }
   ],
   "source": [
    "df "
   ]
  },
  {
   "cell_type": "markdown",
   "id": "eb2275cf",
   "metadata": {},
   "source": [
    "#Mars Hemispheres\n"
   ]
  },
  {
   "cell_type": "code",
   "execution_count": null,
   "id": "c81139f8",
   "metadata": {},
   "outputs": [],
   "source": []
  },
  {
   "cell_type": "code",
   "execution_count": 56,
   "id": "fa64c3db",
   "metadata": {},
   "outputs": [],
   "source": [
    "hemi_url = \"https://marshemispheres.com/\"\n",
    "browser.visit(hemi_url)"
   ]
  },
  {
   "cell_type": "code",
   "execution_count": null,
   "id": "c4e47191",
   "metadata": {},
   "outputs": [],
   "source": []
  },
  {
   "cell_type": "code",
   "execution_count": 57,
   "id": "02ef7199",
   "metadata": {},
   "outputs": [],
   "source": [
    "html = browser.html\n",
    "soup = BeautifulSoup(html) "
   ]
  },
  {
   "cell_type": "code",
   "execution_count": null,
   "id": "bfed5e6f",
   "metadata": {},
   "outputs": [],
   "source": []
  },
  {
   "cell_type": "code",
   "execution_count": 58,
   "id": "62fb7f61",
   "metadata": {},
   "outputs": [
    {
     "data": {
      "text/plain": [
       "4"
      ]
     },
     "execution_count": 58,
     "metadata": {},
     "output_type": "execute_result"
    }
   ],
   "source": [
    "hemi_item = soup.find_all(\"div\", {\"class\": \"item\"})\n",
    "len(hemi_items) "
   ]
  },
  {
   "cell_type": "code",
   "execution_count": null,
   "id": "6634f01a",
   "metadata": {},
   "outputs": [],
   "source": []
  },
  {
   "cell_type": "code",
   "execution_count": 59,
   "id": "17dde56a",
   "metadata": {},
   "outputs": [],
   "source": [
    " marshemi_info = []\n",
    "\n",
    "for hemi_item in hemi_items:\n",
    "    # parse page 1\n",
    "    item_link = hemi_item.find(\"div\", {\"class\", \"description\"}).find(\"a\")\n",
    "    item_url = hemi_url + item_link[\"href\"]\n",
    "    item_title = item_link.text.strip().strip(\"Enhanced\").strip()\n",
    "    \n",
    "    # visit the found URL\n",
    "    browser.visit(item_url)\n",
    "    html2 = browser.html\n",
    "    soup2 = BeautifulSoup(html2)\n",
    "    Mhemi_url = hemi_url + soup2.find(\"img\", {\"class\": \"wide-image\"})[\"src\"]\n",
    "    \n",
    "    data = {\"title\": item_title, \"img_url\": Mhemi_url}\n",
    "    marshemi_info.append(data)"
   ]
  },
  {
   "cell_type": "code",
   "execution_count": 60,
   "id": "666bd62c",
   "metadata": {},
   "outputs": [
    {
     "data": {
      "text/plain": [
       "[{'title': 'Cerberus Hemisphere',\n",
       "  'img_url': 'https://marshemispheres.com/images/f5e372a36edfa389625da6d0cc25d905_cerberus_enhanced.tif_full.jpg'},\n",
       " {'title': 'Schiaparelli Hemisphere',\n",
       "  'img_url': 'https://marshemispheres.com/images/3778f7b43bbbc89d6e3cfabb3613ba93_schiaparelli_enhanced.tif_full.jpg'},\n",
       " {'title': 'Syrtis Major Hemisphere',\n",
       "  'img_url': 'https://marshemispheres.com/images/555e6403a6ddd7ba16ddb0e471cadcf7_syrtis_major_enhanced.tif_full.jpg'},\n",
       " {'title': 'Valles Marineris Hemisphere',\n",
       "  'img_url': 'https://marshemispheres.com/images/b3c7c6c9138f57b4756be9b9c43e3a48_valles_marineris_enhanced.tif_full.jpg'}]"
      ]
     },
     "execution_count": 60,
     "metadata": {},
     "output_type": "execute_result"
    }
   ],
   "source": [
    "marshemi_info "
   ]
  },
  {
   "cell_type": "code",
   "execution_count": null,
   "id": "becb0f85",
   "metadata": {},
   "outputs": [],
   "source": []
  },
  {
   "cell_type": "code",
   "execution_count": null,
   "id": "da8d987d",
   "metadata": {},
   "outputs": [],
   "source": []
  },
  {
   "cell_type": "code",
   "execution_count": null,
   "id": "1591bbab",
   "metadata": {},
   "outputs": [],
   "source": []
  },
  {
   "cell_type": "code",
   "execution_count": null,
   "id": "c3efef47",
   "metadata": {},
   "outputs": [],
   "source": []
  }
 ],
 "metadata": {
  "kernelspec": {
   "display_name": "Python 3 (ipykernel)",
   "language": "python",
   "name": "python3"
  },
  "language_info": {
   "codemirror_mode": {
    "name": "ipython",
    "version": 3
   },
   "file_extension": ".py",
   "mimetype": "text/x-python",
   "name": "python",
   "nbconvert_exporter": "python",
   "pygments_lexer": "ipython3",
   "version": "3.9.7"
  }
 },
 "nbformat": 4,
 "nbformat_minor": 5
}
